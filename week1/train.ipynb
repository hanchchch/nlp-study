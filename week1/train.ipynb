{
 "cells": [
  {
   "cell_type": "code",
   "execution_count": 1,
   "metadata": {},
   "outputs": [
    {
     "name": "stderr",
     "output_type": "stream",
     "text": [
      "100%|██████████| 1801350/1801350 [00:37<00:00, 47948.25it/s]\n"
     ]
    }
   ],
   "source": [
    "from torchtext.data.utils import get_tokenizer\n",
    "from torchtext.datasets import WikiText103\n",
    "from word2vec import get_word_map\n",
    "\n",
    "train_dataset, valid_dataset, test_dataset = WikiText103(\n",
    "    root=\".data\", split=(\"train\", \"valid\", \"test\")\n",
    ")\n",
    "tokenizer = get_tokenizer(\"basic_english\")\n",
    "word_map = get_word_map(train_dataset, tokenizer, 1_801_350)"
   ]
  },
  {
   "cell_type": "code",
   "execution_count": 3,
   "metadata": {},
   "outputs": [
    {
     "name": "stderr",
     "output_type": "stream",
     "text": [
      "/Users/hanch/code/personal/nlp-study/.venv/lib/python3.11/site-packages/torch/utils/data/datapipes/iter/combining.py:333: UserWarning: Some child DataPipes are not exhausted when __iter__ is called. We are resetting the buffer and each child DataPipe will read from the start again.\n",
      "  warnings.warn(\"Some child DataPipes are not exhausted when __iter__ is called. We are resetting \"\n"
     ]
    },
    {
     "name": "stdout",
     "output_type": "stream",
     "text": [
      "epoch 0 [1] took 0.077s 5 words - loss 61.659\n",
      "epoch 0 [3] took 2.158s 123 words - loss 1516.815\n",
      "epoch 0 [4] took 1.515s 93 words - loss 1146.853\n",
      "epoch 0 [5] took 1.667s 103 words - loss 1270.178\n",
      "epoch 0 [7] took 0.067s 5 words - loss 61.658\n",
      "epoch 0 [9] took 3.689s 213 words - loss 2626.677\n",
      "epoch 0 [10] took 4.788s 283 words - loss 3489.905\n"
     ]
    }
   ],
   "source": [
    "import torch\n",
    "import time\n",
    "from word2vec import Word2Vec\n",
    "\n",
    "epoch_num = 1\n",
    "\n",
    "model = Word2Vec(word_map)\n",
    "\n",
    "criterion = torch.nn.CrossEntropyLoss()\n",
    "optimizer = torch.optim.SGD(model.parameters(), lr=0.001)\n",
    "\n",
    "for epoch in range(epoch_num):\n",
    "    # optimizer.zero_grad()\n",
    "    # loss = 0\n",
    "\n",
    "    for i, sentence in enumerate(train_dataset):\n",
    "        optimizer.zero_grad()\n",
    "        loss = 0\n",
    "        \n",
    "        words = tokenizer(sentence)\n",
    "        if len(words) == 0:\n",
    "            continue\n",
    "\n",
    "        start = time.time()\n",
    "        for word_index, word in enumerate(words):\n",
    "            output = model(words, word_index)\n",
    "            label = model.one_hot(word)\n",
    "            loss += criterion(output, label)\n",
    "        end = time.time()\n",
    "\n",
    "        print(f\"epoch {epoch} [{i}] took {end - start:1.3f}s with {len(words)} words - loss {loss:1.3f}\")\n",
    "        \n",
    "        loss.backward()\n",
    "        optimizer.step()\n",
    "\n",
    "        if i == 10:\n",
    "            break\n",
    "    \n",
    "    # loss.backward()\n",
    "    # optimizer.step()\n"
   ]
  },
  {
   "cell_type": "code",
   "execution_count": null,
   "metadata": {},
   "outputs": [],
   "source": []
  }
 ],
 "metadata": {
  "kernelspec": {
   "display_name": ".venv",
   "language": "python",
   "name": "python3"
  },
  "language_info": {
   "codemirror_mode": {
    "name": "ipython",
    "version": 3
   },
   "file_extension": ".py",
   "mimetype": "text/x-python",
   "name": "python",
   "nbconvert_exporter": "python",
   "pygments_lexer": "ipython3",
   "version": "3.11.3"
  }
 },
 "nbformat": 4,
 "nbformat_minor": 2
}
