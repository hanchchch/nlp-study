{
 "cells": [
  {
   "cell_type": "code",
   "execution_count": 1,
   "metadata": {},
   "outputs": [
    {
     "name": "stderr",
     "output_type": "stream",
     "text": [
      "100%|██████████| 1801350/1801350 [00:37<00:00, 47948.25it/s]\n"
     ]
    }
   ],
   "source": [
    "from torchtext.data.utils import get_tokenizer\n",
    "from torchtext.datasets import WikiText103\n",
    "from word2vec import get_word_map\n",
    "\n",
    "train_dataset, valid_dataset, test_dataset = WikiText103(\n",
    "    root=\".data\", split=(\"train\", \"valid\", \"test\")\n",
    ")\n",
    "tokenizer = get_tokenizer(\"basic_english\")\n",
    "word_map = get_word_map(train_dataset, tokenizer, 1_801_350)"
   ]
  },
  {
   "cell_type": "code",
   "execution_count": 4,
   "metadata": {},
   "outputs": [
    {
     "name": "stderr",
     "output_type": "stream",
     "text": [
      "/Users/hanch/code/personal/nlp-study/.venv/lib/python3.11/site-packages/torch/utils/data/datapipes/iter/combining.py:333: UserWarning: Some child DataPipes are not exhausted when __iter__ is called. We are resetting the buffer and each child DataPipe will read from the start again.\n",
      "  warnings.warn(\"Some child DataPipes are not exhausted when __iter__ is called. We are resetting \"\n"
     ]
    },
    {
     "name": "stdout",
     "output_type": "stream",
     "text": [
      "epoch 0 [1] took 0.080s with 5 words - loss 61.660\n",
      "epoch 0 [3] took 2.126s with 123 words - loss 1516.813\n"
     ]
    }
   ],
   "source": [
    "import torch\n",
    "import time\n",
    "from word2vec import Word2Vec\n",
    "\n",
    "EPOCH = 1\n",
    "CHECKPOINT_PATH = \"model.pt\"\n",
    "\n",
    "\n",
    "model = Word2Vec(word_map)\n",
    "\n",
    "criterion = torch.nn.CrossEntropyLoss()\n",
    "optimizer = torch.optim.SGD(model.parameters(), lr=0.001)\n",
    "\n",
    "for epoch in range(EPOCH):\n",
    "    # optimizer.zero_grad()\n",
    "    # loss = 0\n",
    "\n",
    "    for i, sentence in enumerate(train_dataset):\n",
    "        optimizer.zero_grad()\n",
    "        loss = 0\n",
    "        \n",
    "        words = tokenizer(sentence)\n",
    "        if len(words) == 0:\n",
    "            continue\n",
    "\n",
    "        start = time.time()\n",
    "        for word_index, word in enumerate(words):\n",
    "            output = model(words, word_index)\n",
    "            label = model.one_hot(word)\n",
    "            loss += criterion(output, label)\n",
    "        end = time.time()\n",
    "\n",
    "        print(f\"epoch {epoch} [{i}] took {end - start:1.3f}s with {len(words)} words - loss {loss:1.3f}\")\n",
    "        \n",
    "        loss.backward()\n",
    "        optimizer.step()\n",
    "\n",
    "        if i == 100:\n",
    "            break\n",
    "    \n",
    "    # loss.backward()\n",
    "    # optimizer.step()\n",
    "\n",
    "print(\"done training, saving model\")\n",
    "\n",
    "torch.save({\n",
    "    'epoch': EPOCH,\n",
    "    'model_state_dict': model.state_dict(),\n",
    "    'optimizer_state_dict': optimizer.state_dict(),\n",
    "    'loss': loss,\n",
    "}, CHECKPOINT_PATH)\n"
   ]
  },
  {
   "cell_type": "code",
   "execution_count": null,
   "metadata": {},
   "outputs": [],
   "source": []
  }
 ],
 "metadata": {
  "kernelspec": {
   "display_name": ".venv",
   "language": "python",
   "name": "python3"
  },
  "language_info": {
   "codemirror_mode": {
    "name": "ipython",
    "version": 3
   },
   "file_extension": ".py",
   "mimetype": "text/x-python",
   "name": "python",
   "nbconvert_exporter": "python",
   "pygments_lexer": "ipython3",
   "version": "3.11.3"
  }
 },
 "nbformat": 4,
 "nbformat_minor": 2
}
